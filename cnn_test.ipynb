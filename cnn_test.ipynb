{
 "cells": [
  {
   "cell_type": "code",
   "execution_count": 1,
   "metadata": {},
   "outputs": [
    {
     "name": "stderr",
     "output_type": "stream",
     "text": [
      "Using TensorFlow backend.\n"
     ]
    }
   ],
   "source": [
    "import multiprocessing\n",
    "\n",
    "import numpy as np\n",
    "\n",
    "import cnn\n",
    "import utils\n",
    "import hmm"
   ]
  },
  {
   "cell_type": "code",
   "execution_count": 2,
   "metadata": {},
   "outputs": [],
   "source": [
    "cpus = multiprocessing.cpu_count() // 2"
   ]
  },
  {
   "cell_type": "code",
   "execution_count": 3,
   "metadata": {},
   "outputs": [],
   "source": [
    "x = 2\n",
    "y = np.array(['a', 'b', 'c'])\n",
    "s = np.array([1.0, 0.0])\n",
    "\n",
    "real_hmm_train = hmm.HMM(\n",
    "    x=x,\n",
    "    y=y,\n",
    "    a=np.array([\n",
    "        [0.3, 0.7],\n",
    "        [0.1, 0.9]\n",
    "    ]),\n",
    "    b=np.array([\n",
    "        [0.6, 0.4, 0.0],\n",
    "        [0.0, 0.0, 1.0]\n",
    "    ]),\n",
    "    s=s\n",
    ")\n",
    "\n",
    "real_hmm_val = hmm.HMM(\n",
    "    x=x,\n",
    "    y=y,\n",
    "    a=np.array([\n",
    "        [0.5, 0.5],\n",
    "        [0.2, 0.8]\n",
    "    ]),\n",
    "    b=np.array([\n",
    "        [0.1, 0.7, 0.2],\n",
    "        [0.8, 0.0, 0.2]\n",
    "    ]),\n",
    "    s=s\n",
    ")"
   ]
  },
  {
   "cell_type": "code",
   "execution_count": 4,
   "metadata": {},
   "outputs": [],
   "source": [
    "epoch_size = 100\n",
    "batch_size = 100\n",
    "seq_len = 20\n",
    "\n",
    "train_data_gen = utils.HMMDataGenerator(\n",
    "    real_hmm_train,\n",
    "    epoch_size,\n",
    "    batch_size,\n",
    "    seq_len\n",
    ")\n",
    "\n",
    "val_data_gen = utils.HMMDataGenerator(\n",
    "    real_hmm_val,\n",
    "    epoch_size,\n",
    "    batch_size,\n",
    "    seq_len\n",
    ")"
   ]
  },
  {
   "cell_type": "code",
   "execution_count": 5,
   "metadata": {},
   "outputs": [
    {
     "name": "stdout",
     "output_type": "stream",
     "text": [
      "Model: \"sequential_1\"\n",
      "_________________________________________________________________\n",
      "Layer (type)                 Output Shape              Param #   \n",
      "=================================================================\n",
      "conv1d_1 (Conv1D)            (None, 18, 4)             40        \n",
      "_________________________________________________________________\n",
      "activation_1 (Activation)    (None, 18, 4)             0         \n",
      "_________________________________________________________________\n",
      "global_max_pooling1d_1 (Glob (None, 4)                 0         \n",
      "_________________________________________________________________\n",
      "dense_1 (Dense)              (None, 16)                80        \n",
      "_________________________________________________________________\n",
      "activation_2 (Activation)    (None, 16)                0         \n",
      "_________________________________________________________________\n",
      "dense_2 (Dense)              (None, 1)                 17        \n",
      "_________________________________________________________________\n",
      "activation_3 (Activation)    (None, 1)                 0         \n",
      "=================================================================\n",
      "Total params: 137\n",
      "Trainable params: 137\n",
      "Non-trainable params: 0\n",
      "_________________________________________________________________\n"
     ]
    }
   ],
   "source": [
    "model = cnn.CNNModel(train_data_gen.input_shape())\n",
    "model.summary()"
   ]
  },
  {
   "cell_type": "code",
   "execution_count": 6,
   "metadata": {
    "scrolled": true
   },
   "outputs": [
    {
     "name": "stdout",
     "output_type": "stream",
     "text": [
      "Epoch 1/20\n",
      "100/100 [==============================] - 4s 40ms/step - loss: 0.6669 - accuracy: 0.6566 - val_loss: 0.7964 - val_accuracy: 0.4726\n",
      "Epoch 2/20\n",
      "100/100 [==============================] - 3s 25ms/step - loss: 0.5187 - accuracy: 0.8652 - val_loss: 1.3622 - val_accuracy: 0.4414\n",
      "Epoch 3/20\n",
      "100/100 [==============================] - 2s 23ms/step - loss: 0.3612 - accuracy: 0.8683 - val_loss: 2.1307 - val_accuracy: 0.4498\n",
      "Epoch 4/20\n",
      "100/100 [==============================] - 2s 22ms/step - loss: 0.2872 - accuracy: 0.8990 - val_loss: 2.6459 - val_accuracy: 0.4501\n",
      "Epoch 5/20\n",
      "100/100 [==============================] - 2s 23ms/step - loss: 0.2689 - accuracy: 0.8999 - val_loss: 3.0069 - val_accuracy: 0.4417\n",
      "Epoch 6/20\n",
      "100/100 [==============================] - 2s 23ms/step - loss: 0.2409 - accuracy: 0.9098 - val_loss: 3.2505 - val_accuracy: 0.4371\n",
      "Epoch 7/20\n",
      "100/100 [==============================] - 2s 24ms/step - loss: 0.2430 - accuracy: 0.9065 - val_loss: 2.3059 - val_accuracy: 0.4436\n",
      "Epoch 8/20\n",
      "100/100 [==============================] - 3s 26ms/step - loss: 0.2335 - accuracy: 0.9099 - val_loss: 2.2804 - val_accuracy: 0.4526\n",
      "Epoch 9/20\n",
      "100/100 [==============================] - 2s 24ms/step - loss: 0.2439 - accuracy: 0.9033 - val_loss: 2.5396 - val_accuracy: 0.4524\n",
      "Epoch 10/20\n",
      "100/100 [==============================] - 2s 23ms/step - loss: 0.2513 - accuracy: 0.8976 - val_loss: 3.6446 - val_accuracy: 0.4526\n",
      "Epoch 11/20\n",
      "100/100 [==============================] - 2s 23ms/step - loss: 0.2364 - accuracy: 0.9053 - val_loss: 3.6800 - val_accuracy: 0.4478\n",
      "Epoch 12/20\n",
      "100/100 [==============================] - 2s 25ms/step - loss: 0.2360 - accuracy: 0.9048 - val_loss: 2.6111 - val_accuracy: 0.4566\n",
      "Epoch 13/20\n",
      "  1/100 [..............................] - ETA: 0s - loss: 0.6014 - accuracy: 0.7000Epoch 12/20\n",
      "100/100 [==============================] - 2s 22ms/step - loss: 0.2312 - accuracy: 0.9087 - val_loss: 3.7865 - val_accuracy: 0.4443\n",
      "Epoch 14/20\n",
      "100/100 [==============================] - 2s 24ms/step - loss: 0.2222 - accuracy: 0.9119 - val_loss: 2.7603 - val_accuracy: 0.4564\n",
      "Epoch 15/20\n",
      "100/100 [==============================] - 2s 24ms/step - loss: 0.2170 - accuracy: 0.9128 - val_loss: 2.8129 - val_accuracy: 0.4425\n",
      "Epoch 16/20\n",
      "100/100 [==============================] - 2s 24ms/step - loss: 0.2152 - accuracy: 0.9134 - val_loss: 2.8723 - val_accuracy: 0.4472\n",
      "Epoch 17/20\n",
      "100/100 [==============================] - 2s 24ms/step - loss: 0.2167 - accuracy: 0.9130 - val_loss: 3.9936 - val_accuracy: 0.4564\n",
      "Epoch 18/20\n",
      "100/100 [==============================] - 2s 25ms/step - loss: 0.2137 - accuracy: 0.9151 - val_loss: 2.9437 - val_accuracy: 0.4465\n",
      "Epoch 19/20\n",
      "100/100 [==============================] - 2s 24ms/step - loss: 0.2275 - accuracy: 0.9086 - val_loss: 2.8871 - val_accuracy: 0.4552\n",
      "Epoch 20/20\n",
      "100/100 [==============================] - 2s 23ms/step - loss: 0.2150 - accuracy: 0.9141 - val_loss: 2.9931 - val_accuracy: 0.4564\n"
     ]
    }
   ],
   "source": [
    "epochs = 20\n",
    "\n",
    "history = model.fit_generator(\n",
    "    generator=train_data_gen,\n",
    "    epochs=epochs,\n",
    "    validation_data=val_data_gen,\n",
    "    use_multiprocessing=True,\n",
    "    workers=cpus\n",
    ")"
   ]
  },
  {
   "cell_type": "code",
   "execution_count": 7,
   "metadata": {},
   "outputs": [
    {
     "data": {
      "image/png": "[encoded data removed]",
      "text/plain": [
       "<Figure size 432x288 with 1 Axes>"
      ]
     },
     "metadata": {
      "needs_background": "light"
     },
     "output_type": "display_data"
    }
   ],
   "source": [
    "utils.plot_acc(history)"
   ]
  },
  {
   "cell_type": "code",
   "execution_count": 8,
   "metadata": {},
   "outputs": [
    {
     "data": {
      "image/png": "[encoded data removed]",
      "text/plain": [
       "<Figure size 432x288 with 1 Axes>"
      ]
     },
     "metadata": {
      "needs_background": "light"
     },
     "output_type": "display_data"
    }
   ],
   "source": [
    "utils.plot_loss(history)"
   ]
  },
  {
   "cell_type": "code",
   "execution_count": 9,
   "metadata": {},
   "outputs": [
    {
     "name": "stdout",
     "output_type": "stream",
     "text": [
      "['a' 'c' 'c' 'c' 'c' 'c' 'c' 'c' 'c' 'b' 'c' 'c' 'c' 'c' 'c' 'c' 'c' 'b'\n",
      " 'c' 'c']\n",
      "[[[1. 0. 0.]\n",
      "  [0. 0. 1.]\n",
      "  [0. 0. 1.]\n",
      "  [0. 0. 1.]\n",
      "  [0. 0. 1.]\n",
      "  [0. 0. 1.]\n",
      "  [0. 0. 1.]\n",
      "  [0. 0. 1.]\n",
      "  [0. 0. 1.]\n",
      "  [0. 1. 0.]\n",
      "  [0. 0. 1.]\n",
      "  [0. 0. 1.]\n",
      "  [0. 0. 1.]\n",
      "  [0. 0. 1.]\n",
      "  [0. 0. 1.]\n",
      "  [0. 0. 1.]\n",
      "  [0. 0. 1.]\n",
      "  [0. 1. 0.]\n",
      "  [0. 0. 1.]\n",
      "  [0. 0. 1.]]]\n"
     ]
    }
   ],
   "source": [
    "test_X = real_hmm_train.simulate(seq_len, reset_before=True)[1]\n",
    "print(test_X)\n",
    "test_X = np.array([train_data_gen._encode_hmm_outputs(test_X)])\n",
    "print(test_X)"
   ]
  },
  {
   "cell_type": "code",
   "execution_count": 10,
   "metadata": {},
   "outputs": [
    {
     "name": "stdout",
     "output_type": "stream",
     "text": [
      "[[0.947094]]\n"
     ]
    }
   ],
   "source": [
    "p = model.predict(test_X)\n",
    "print(p)"
   ]
  },
  {
   "cell_type": "code",
   "execution_count": 11,
   "metadata": {},
   "outputs": [
    {
     "name": "stdout",
     "output_type": "stream",
     "text": [
      "Predict real?: True\n"
     ]
    }
   ],
   "source": [
    "pred_real = bool(round(p[0][0]))\n",
    "print(f'Predict real?: {pred_real}')"
   ]
  },
  {
   "cell_type": "code",
   "execution_count": 12,
   "metadata": {},
   "outputs": [
    {
     "name": "stdout",
     "output_type": "stream",
     "text": [
      "Model: \"sequential_2\"\n",
      "_________________________________________________________________\n",
      "Layer (type)                 Output Shape              Param #   \n",
      "=================================================================\n",
      "conv1d_2 (Conv1D)            (None, 18, 4)             40        \n",
      "_________________________________________________________________\n",
      "activation_4 (Activation)    (None, 18, 4)             0         \n",
      "_________________________________________________________________\n",
      "max_pooling1d_1 (MaxPooling1 (None, 9, 4)              0         \n",
      "_________________________________________________________________\n",
      "conv1d_3 (Conv1D)            (None, 7, 8)              104       \n",
      "_________________________________________________________________\n",
      "activation_5 (Activation)    (None, 7, 8)              0         \n",
      "_________________________________________________________________\n",
      "global_max_pooling1d_2 (Glob (None, 8)                 0         \n",
      "_________________________________________________________________\n",
      "dense_3 (Dense)              (None, 16)                144       \n",
      "_________________________________________________________________\n",
      "activation_6 (Activation)    (None, 16)                0         \n",
      "_________________________________________________________________\n",
      "dense_4 (Dense)              (None, 1)                 17        \n",
      "_________________________________________________________________\n",
      "activation_7 (Activation)    (None, 1)                 0         \n",
      "=================================================================\n",
      "Total params: 305\n",
      "Trainable params: 305\n",
      "Non-trainable params: 0\n",
      "_________________________________________________________________\n"
     ]
    }
   ],
   "source": [
    "model2 = cnn.CNNModel2(train_data_gen.input_shape())\n",
    "model2.summary()"
   ]
  },
  {
   "cell_type": "code",
   "execution_count": 13,
   "metadata": {
    "scrolled": true
   },
   "outputs": [
    {
     "name": "stdout",
     "output_type": "stream",
     "text": [
      "Epoch 1/20\n",
      "100/100 [==============================] - 3s 28ms/step - loss: 0.6233 - accuracy: 0.7840 - val_loss: 0.7406 - val_accuracy: 0.3988\n",
      "Epoch 2/20\n",
      "100/100 [==============================] - 2s 24ms/step - loss: 0.3330 - accuracy: 0.9024 - val_loss: 1.3994 - val_accuracy: 0.4032\n",
      "Epoch 3/20\n",
      "100/100 [==============================] - 3s 26ms/step - loss: 0.2216 - accuracy: 0.9105 - val_loss: 2.1351 - val_accuracy: 0.4240\n",
      "Epoch 4/20\n",
      "100/100 [==============================] - 2s 24ms/step - loss: 0.1806 - accuracy: 0.9265 - val_loss: 2.2773 - val_accuracy: 0.4218\n",
      "Epoch 5/20\n",
      "100/100 [==============================] - 3s 26ms/step - loss: 0.1828 - accuracy: 0.9267 - val_loss: 2.1714 - val_accuracy: 0.4352\n",
      "Epoch 6/20\n",
      "100/100 [==============================] - 2s 24ms/step - loss: 0.1712 - accuracy: 0.9323 - val_loss: 2.2334 - val_accuracy: 0.4451\n",
      "Epoch 7/20\n",
      "100/100 [==============================] - 2s 24ms/step - loss: 0.1579 - accuracy: 0.9367 - val_loss: 2.5217 - val_accuracy: 0.4436\n",
      "Epoch 8/20\n",
      "100/100 [==============================] - 2s 24ms/step - loss: 0.1576 - accuracy: 0.9364 - val_loss: 2.7429 - val_accuracy: 0.4239\n",
      "Epoch 9/20\n",
      "100/100 [==============================] - 2s 25ms/step - loss: 0.1590 - accuracy: 0.9350 - val_loss: 2.3252 - val_accuracy: 0.4437\n",
      "Epoch 10/20\n",
      "100/100 [==============================] - 2s 22ms/step - loss: 0.1500 - accuracy: 0.9395 - val_loss: 2.8116 - val_accuracy: 0.4342\n",
      "Epoch 11/20\n",
      "100/100 [==============================] - 2s 24ms/step - loss: 0.1580 - accuracy: 0.9353 - val_loss: 2.4833 - val_accuracy: 0.4514\n",
      "Epoch 12/20\n",
      "100/100 [==============================] - 2s 24ms/step - loss: 0.1566 - accuracy: 0.9363 - val_loss: 2.6522 - val_accuracy: 0.4524\n",
      "Epoch 13/20\n",
      "100/100 [==============================] - 2s 24ms/step - loss: 0.1407 - accuracy: 0.9444 - val_loss: 2.5470 - val_accuracy: 0.4346\n",
      "Epoch 14/20\n",
      "100/100 [==============================] - 3s 26ms/step - loss: 0.1467 - accuracy: 0.9385 - val_loss: 2.3740 - val_accuracy: 0.4425\n",
      "Epoch 15/20\n",
      "100/100 [==============================] - 2s 24ms/step - loss: 0.1464 - accuracy: 0.9386 - val_loss: 2.4548 - val_accuracy: 0.4514\n",
      "Epoch 16/20\n",
      "100/100 [==============================] - 2s 24ms/step - loss: 0.1489 - accuracy: 0.9386 - val_loss: 3.0005 - val_accuracy: 0.4610\n",
      "Epoch 17/20\n",
      "100/100 [==============================] - 2s 24ms/step - loss: 0.1458 - accuracy: 0.9404 - val_loss: 2.5009 - val_accuracy: 0.4554\n",
      "Epoch 18/20\n",
      "100/100 [==============================] - 2s 24ms/step - loss: 0.1371 - accuracy: 0.9462 - val_loss: 2.6578 - val_accuracy: 0.4442\n",
      "Epoch 19/20\n",
      "100/100 [==============================] - 2s 22ms/step - loss: 0.1358 - accuracy: 0.9423 - val_loss: 2.4663 - val_accuracy: 0.4476\n",
      "Epoch 20/20\n",
      "100/100 [==============================] - 2s 25ms/step - loss: 0.1364 - accuracy: 0.9420 - val_loss: 2.7163 - val_accuracy: 0.4454\n"
     ]
    }
   ],
   "source": [
    "history2 = model2.fit_generator(\n",
    "    generator=train_data_gen,\n",
    "    epochs=epochs,\n",
    "    validation_data=val_data_gen,\n",
    "    use_multiprocessing=True,\n",
    "    workers=cpus\n",
    ")"
   ]
  },
  {
   "cell_type": "code",
   "execution_count": 14,
   "metadata": {},
   "outputs": [
    {
     "data": {
      "image/png": "[encoded data removed]",
      "text/plain": [
       "<Figure size 432x288 with 1 Axes>"
      ]
     },
     "metadata": {
      "needs_background": "light"
     },
     "output_type": "display_data"
    }
   ],
   "source": [
    "utils.plot_acc(history2)"
   ]
  },
  {
   "cell_type": "code",
   "execution_count": 15,
   "metadata": {},
   "outputs": [
    {
     "data": {
      "image/png": "[encoded data removed]",
      "text/plain": [
       "<Figure size 432x288 with 1 Axes>"
      ]
     },
     "metadata": {
      "needs_background": "light"
     },
     "output_type": "display_data"
    }
   ],
   "source": [
    "utils.plot_loss(history2)"
   ]
  },
  {
   "cell_type": "code",
   "execution_count": null,
   "metadata": {},
   "outputs": [],
   "source": []
  }
 ],
 "metadata": {
  "kernelspec": {
   "display_name": "Python 3",
   "language": "python",
   "name": "python3"
  },
  "language_info": {
   "codemirror_mode": {
    "name": "ipython",
    "version": 3
   },
   "file_extension": ".py",
   "mimetype": "text/x-python",
   "name": "python",
   "nbconvert_exporter": "python",
   "pygments_lexer": "ipython3",
   "version": "3.6.9"
  }
 },
 "nbformat": 4,
 "nbformat_minor": 4
}
