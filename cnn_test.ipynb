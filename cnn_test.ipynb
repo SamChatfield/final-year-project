{
 "cells": [
  {
   "cell_type": "code",
   "execution_count": 1,
   "metadata": {},
   "outputs": [
    {
     "name": "stderr",
     "output_type": "stream",
     "text": [
      "Using TensorFlow backend.\n"
     ]
    }
   ],
   "source": [
    "import math\n",
    "\n",
    "import numpy as np\n",
    "\n",
    "import cnn\n",
    "import utils\n",
    "import hmm"
   ]
  },
  {
   "cell_type": "code",
   "execution_count": 2,
   "metadata": {},
   "outputs": [],
   "source": [
    "x = 2\n",
    "y = np.array(['a', 'b', 'c'])\n",
    "s = np.array([1.0, 0.0])\n",
    "\n",
    "real_hmm_train = hmm.HMM(\n",
    "    x=x,\n",
    "    y=y,\n",
    "    a=np.array([\n",
    "        [0.3, 0.7],\n",
    "        [0.1, 0.9]\n",
    "    ]),\n",
    "    b=np.array([\n",
    "        [0.6, 0.4, 0.0],\n",
    "        [0.0, 0.0, 1.0]\n",
    "    ]),\n",
    "    s=s\n",
    ")\n",
    "\n",
    "real_hmm_val = hmm.HMM(\n",
    "    x=x,\n",
    "    y=y,\n",
    "    a=np.array([\n",
    "        [0.5, 0.5],\n",
    "        [0.2, 0.8]\n",
    "    ]),\n",
    "    b=np.array([\n",
    "        [0.1, 0.7, 0.2],\n",
    "        [0.8, 0.0, 0.2]\n",
    "    ]),\n",
    "    s=s\n",
    ")"
   ]
  },
  {
   "cell_type": "code",
   "execution_count": 3,
   "metadata": {},
   "outputs": [],
   "source": [
    "epoch_size = 100\n",
    "batch_size = 50\n",
    "seq_len = 10\n",
    "\n",
    "train_data_gen = utils.HMMDataGenerator(\n",
    "    real_hmm_train,\n",
    "    epoch_size,\n",
    "    batch_size,\n",
    "    seq_len\n",
    ")\n",
    "\n",
    "val_data_gen = utils.HMMDataGenerator(\n",
    "    real_hmm_val,\n",
    "    epoch_size,\n",
    "    batch_size,\n",
    "    seq_len\n",
    ")"
   ]
  },
  {
   "cell_type": "code",
   "execution_count": 5,
   "metadata": {},
   "outputs": [
    {
     "name": "stdout",
     "output_type": "stream",
     "text": [
      "Model: \"sequential_1\"\n",
      "_________________________________________________________________\n",
      "Layer (type)                 Output Shape              Param #   \n",
      "=================================================================\n",
      "conv1d_1 (Conv1D)            (None, 8, 4)              40        \n",
      "_________________________________________________________________\n",
      "activation_1 (Activation)    (None, 8, 4)              0         \n",
      "_________________________________________________________________\n",
      "global_max_pooling1d_1 (Glob (None, 4)                 0         \n",
      "_________________________________________________________________\n",
      "dense_1 (Dense)              (None, 16)                80        \n",
      "_________________________________________________________________\n",
      "activation_2 (Activation)    (None, 16)                0         \n",
      "_________________________________________________________________\n",
      "dense_2 (Dense)              (None, 1)                 17        \n",
      "_________________________________________________________________\n",
      "activation_3 (Activation)    (None, 1)                 0         \n",
      "=================================================================\n",
      "Total params: 137\n",
      "Trainable params: 137\n",
      "Non-trainable params: 0\n",
      "_________________________________________________________________\n"
     ]
    }
   ],
   "source": [
    "model = cnn.CNNModel()\n",
    "model.summary()"
   ]
  },
  {
   "cell_type": "code",
   "execution_count": 6,
   "metadata": {
    "scrolled": true
   },
   "outputs": [
    {
     "name": "stdout",
     "output_type": "stream",
     "text": [
      "Epoch 1/20\n",
      "100/100 [==============================] - 2s 21ms/step - loss: 0.6326 - accuracy: 0.7476 - val_loss: 0.6779 - val_accuracy: 0.3788\n",
      "Epoch 2/20\n",
      "100/100 [==============================] - 2s 18ms/step - loss: 0.5318 - accuracy: 0.8062 - val_loss: 0.8049 - val_accuracy: 0.3502\n",
      "Epoch 3/20\n",
      "100/100 [==============================] - 2s 19ms/step - loss: 0.4432 - accuracy: 0.8138 - val_loss: 1.0046 - val_accuracy: 0.3494\n",
      "Epoch 4/20\n",
      "100/100 [==============================] - 2s 17ms/step - loss: 0.3987 - accuracy: 0.8136 - val_loss: 1.1077 - val_accuracy: 0.3504\n",
      "Epoch 5/20\n",
      "100/100 [==============================] - 2s 17ms/step - loss: 0.3775 - accuracy: 0.8150 - val_loss: 1.3194 - val_accuracy: 0.3550\n",
      "Epoch 6/20\n",
      "100/100 [==============================] - 2s 17ms/step - loss: 0.3672 - accuracy: 0.8208 - val_loss: 1.4274 - val_accuracy: 0.3726\n",
      "Epoch 7/20\n",
      "100/100 [==============================] - 2s 18ms/step - loss: 0.3597 - accuracy: 0.8364 - val_loss: 1.4653 - val_accuracy: 0.3760\n",
      "Epoch 8/20\n",
      "100/100 [==============================] - 2s 18ms/step - loss: 0.3537 - accuracy: 0.8396 - val_loss: 1.5449 - val_accuracy: 0.3928\n",
      "Epoch 9/20\n",
      "100/100 [==============================] - 2s 18ms/step - loss: 0.3479 - accuracy: 0.8458 - val_loss: 1.6320 - val_accuracy: 0.3934\n",
      "Epoch 10/20\n",
      "100/100 [==============================] - 2s 18ms/step - loss: 0.3453 - accuracy: 0.8470 - val_loss: 1.6762 - val_accuracy: 0.3934\n",
      "Epoch 11/20\n",
      "100/100 [==============================] - 2s 19ms/step - loss: 0.3429 - accuracy: 0.8508 - val_loss: 1.7099 - val_accuracy: 0.3918\n",
      "Epoch 12/20\n",
      "100/100 [==============================] - 2s 19ms/step - loss: 0.3406 - accuracy: 0.8516 - val_loss: 1.7202 - val_accuracy: 0.3824\n",
      "Epoch 13/20\n",
      "100/100 [==============================] - 2s 19ms/step - loss: 0.3385 - accuracy: 0.8510 - val_loss: 1.7702 - val_accuracy: 0.3838\n",
      "Epoch 14/20\n",
      "100/100 [==============================] - 2s 19ms/step - loss: 0.3372 - accuracy: 0.8518 - val_loss: 1.7907 - val_accuracy: 0.3838\n",
      "Epoch 15/20\n",
      "100/100 [==============================] - 2s 19ms/step - loss: 0.3357 - accuracy: 0.8516 - val_loss: 1.8012 - val_accuracy: 0.3896\n",
      "Epoch 16/20\n",
      "100/100 [==============================] - 2s 19ms/step - loss: 0.3346 - accuracy: 0.8508 - val_loss: 1.8310 - val_accuracy: 0.3846\n",
      "Epoch 17/20\n",
      "100/100 [==============================] - 2s 20ms/step - loss: 0.3331 - accuracy: 0.8514 - val_loss: 1.8404 - val_accuracy: 0.3848\n",
      "Epoch 18/20\n",
      "100/100 [==============================] - 2s 20ms/step - loss: 0.3318 - accuracy: 0.8506 - val_loss: 1.8599 - val_accuracy: 0.3848\n",
      "Epoch 19/20\n",
      "  1/100 [..............................] - ETA: 0s - loss: 0.6108 - accuracy: 0.6600Epoch 18/20\n",
      "100/100 [==============================] - 2s 20ms/step - loss: 0.3289 - accuracy: 0.8522 - val_loss: 1.8833 - val_accuracy: 0.3878\n",
      "Epoch 20/20\n",
      "100/100 [==============================] - 2s 20ms/step - loss: 0.3289 - accuracy: 0.8496 - val_loss: 1.8993 - val_accuracy: 0.3888\n"
     ]
    }
   ],
   "source": [
    "epochs = 20\n",
    "\n",
    "history = model.fit_generator(\n",
    "    generator=train_data_gen,\n",
    "    epochs=epochs,\n",
    "    validation_data=val_data_gen,\n",
    "    use_multiprocessing=True,\n",
    "    workers=4\n",
    ")"
   ]
  },
  {
   "cell_type": "code",
   "execution_count": 7,
   "metadata": {},
   "outputs": [
    {
     "data": {
      "image/png": "[encoded data removed]",
      "text/plain": [
       "<Figure size 432x288 with 1 Axes>"
      ]
     },
     "metadata": {
      "needs_background": "light"
     },
     "output_type": "display_data"
    }
   ],
   "source": [
    "utils.plot_acc(history)"
   ]
  },
  {
   "cell_type": "code",
   "execution_count": 8,
   "metadata": {},
   "outputs": [
    {
     "data": {
      "image/png": "[encoded data removed]",
      "text/plain": [
       "<Figure size 432x288 with 1 Axes>"
      ]
     },
     "metadata": {
      "needs_background": "light"
     },
     "output_type": "display_data"
    }
   ],
   "source": [
    "utils.plot_loss(history)"
   ]
  },
  {
   "cell_type": "code",
   "execution_count": 9,
   "metadata": {},
   "outputs": [
    {
     "name": "stdout",
     "output_type": "stream",
     "text": [
      "['a' 'a' 'a' 'c' 'c' 'c' 'a' 'a' 'c' 'a']\n",
      "[[[1. 0. 0.]\n",
      "  [1. 0. 0.]\n",
      "  [1. 0. 0.]\n",
      "  [0. 0. 1.]\n",
      "  [0. 0. 1.]\n",
      "  [0. 0. 1.]\n",
      "  [1. 0. 0.]\n",
      "  [1. 0. 0.]\n",
      "  [0. 0. 1.]\n",
      "  [1. 0. 0.]]]\n"
     ]
    }
   ],
   "source": [
    "test_X = real_hmm_train.simulate(seq_len, reset_before=True)[1]\n",
    "print(test_X)\n",
    "test_X = np.array([train_data_gen._encode_hmm_outputs(test_X)])\n",
    "print(test_X)"
   ]
  },
  {
   "cell_type": "code",
   "execution_count": 10,
   "metadata": {},
   "outputs": [
    {
     "name": "stdout",
     "output_type": "stream",
     "text": [
      "[[0.7387927]]\n"
     ]
    }
   ],
   "source": [
    "p = model.predict(test_X)\n",
    "print(p)"
   ]
  },
  {
   "cell_type": "code",
   "execution_count": 11,
   "metadata": {},
   "outputs": [
    {
     "name": "stdout",
     "output_type": "stream",
     "text": [
      "Predict real?: True\n"
     ]
    }
   ],
   "source": [
    "pred_real = bool(round(p[0][0]))\n",
    "print(f'Predict real?: {pred_real}')"
   ]
  },
  {
   "cell_type": "code",
   "execution_count": 12,
   "metadata": {},
   "outputs": [
    {
     "name": "stdout",
     "output_type": "stream",
     "text": [
      "Model: \"sequential_2\"\n",
      "_________________________________________________________________\n",
      "Layer (type)                 Output Shape              Param #   \n",
      "=================================================================\n",
      "conv1d_2 (Conv1D)            (None, 8, 4)              40        \n",
      "_________________________________________________________________\n",
      "activation_4 (Activation)    (None, 8, 4)              0         \n",
      "_________________________________________________________________\n",
      "max_pooling1d_1 (MaxPooling1 (None, 4, 4)              0         \n",
      "_________________________________________________________________\n",
      "conv1d_3 (Conv1D)            (None, 2, 8)              104       \n",
      "_________________________________________________________________\n",
      "activation_5 (Activation)    (None, 2, 8)              0         \n",
      "_________________________________________________________________\n",
      "global_max_pooling1d_2 (Glob (None, 8)                 0         \n",
      "_________________________________________________________________\n",
      "dense_3 (Dense)              (None, 16)                144       \n",
      "_________________________________________________________________\n",
      "activation_6 (Activation)    (None, 16)                0         \n",
      "_________________________________________________________________\n",
      "dense_4 (Dense)              (None, 1)                 17        \n",
      "_________________________________________________________________\n",
      "activation_7 (Activation)    (None, 1)                 0         \n",
      "=================================================================\n",
      "Total params: 305\n",
      "Trainable params: 305\n",
      "Non-trainable params: 0\n",
      "_________________________________________________________________\n"
     ]
    }
   ],
   "source": [
    "model2 = cnn.CNNModel2()\n",
    "model2.summary()"
   ]
  },
  {
   "cell_type": "code",
   "execution_count": 13,
   "metadata": {
    "scrolled": true
   },
   "outputs": [
    {
     "name": "stdout",
     "output_type": "stream",
     "text": [
      "Epoch 1/20\n",
      "  7/100 [=>............................] - ETA: 11s - loss: 0.6676 - accuracy: 0.7029"
     ]
    },
    {
     "name": "stderr",
     "output_type": "stream",
     "text": [
      "/Users/sam/anaconda3/envs/fyp/lib/python3.7/site-packages/keras/callbacks/callbacks.py:95: RuntimeWarning: Method (on_train_batch_end) is slow compared to the batch update (0.121586). Check your callbacks.\n",
      "  % (hook_name, delta_t_median), RuntimeWarning)\n",
      "/Users/sam/anaconda3/envs/fyp/lib/python3.7/site-packages/keras/callbacks/callbacks.py:95: RuntimeWarning: Method (on_train_batch_end) is slow compared to the batch update (0.116223). Check your callbacks.\n",
      "  % (hook_name, delta_t_median), RuntimeWarning)\n"
     ]
    },
    {
     "name": "stdout",
     "output_type": "stream",
     "text": [
      "100/100 [==============================] - 7s 66ms/step - loss: 0.5601 - accuracy: 0.8514 - val_loss: 0.7610 - val_accuracy: 0.4106\n",
      "Epoch 2/20\n",
      "100/100 [==============================] - 6s 63ms/step - loss: 0.3325 - accuracy: 0.8922 - val_loss: 1.3445 - val_accuracy: 0.4586\n",
      "Epoch 3/20\n",
      "100/100 [==============================] - 6s 65ms/step - loss: 0.2350 - accuracy: 0.9066 - val_loss: 1.7431 - val_accuracy: 0.4256\n",
      "Epoch 4/20\n",
      "100/100 [==============================] - 6s 61ms/step - loss: 0.2520 - accuracy: 0.9040 - val_loss: 1.8875 - val_accuracy: 0.4434\n",
      "Epoch 5/20\n",
      "100/100 [==============================] - 6s 60ms/step - loss: 0.2159 - accuracy: 0.9154 - val_loss: 1.8999 - val_accuracy: 0.4258\n",
      "Epoch 6/20\n",
      "100/100 [==============================] - 6s 60ms/step - loss: 0.2811 - accuracy: 0.8936 - val_loss: 1.7297 - val_accuracy: 0.4308\n",
      "Epoch 7/20\n",
      "100/100 [==============================] - 6s 65ms/step - loss: 0.2563 - accuracy: 0.8932 - val_loss: 1.6951 - val_accuracy: 0.4420\n",
      "Epoch 8/20\n",
      "100/100 [==============================] - 6s 62ms/step - loss: 0.2531 - accuracy: 0.8946 - val_loss: 1.8351 - val_accuracy: 0.4436\n",
      "Epoch 9/20\n",
      "100/100 [==============================] - 6s 62ms/step - loss: 0.2377 - accuracy: 0.9104 - val_loss: 1.9105 - val_accuracy: 0.4542\n",
      "Epoch 10/20\n",
      "100/100 [==============================] - 6s 63ms/step - loss: 0.2231 - accuracy: 0.9124 - val_loss: 1.9129 - val_accuracy: 0.4424\n",
      "Epoch 11/20\n",
      "100/100 [==============================] - 6s 63ms/step - loss: 0.2240 - accuracy: 0.9136 - val_loss: 2.0731 - val_accuracy: 0.4644\n",
      "Epoch 12/20\n",
      "100/100 [==============================] - 6s 62ms/step - loss: 0.2531 - accuracy: 0.9018 - val_loss: 1.9415 - val_accuracy: 0.4486\n",
      "Epoch 13/20\n",
      "100/100 [==============================] - 6s 62ms/step - loss: 0.2964 - accuracy: 0.8890 - val_loss: 1.7506 - val_accuracy: 0.4628\n",
      "Epoch 14/20\n",
      "100/100 [==============================] - 6s 63ms/step - loss: 0.2588 - accuracy: 0.8966 - val_loss: 2.4355 - val_accuracy: 0.4628\n",
      "Epoch 15/20\n",
      "100/100 [==============================] - 6s 62ms/step - loss: 0.2373 - accuracy: 0.9058 - val_loss: 1.7333 - val_accuracy: 0.4488\n",
      "Epoch 16/20\n",
      "100/100 [==============================] - 6s 63ms/step - loss: 0.2372 - accuracy: 0.9092 - val_loss: 2.1395 - val_accuracy: 0.4622\n",
      "Epoch 17/20\n",
      "100/100 [==============================] - 7s 66ms/step - loss: 0.2249 - accuracy: 0.9094 - val_loss: 1.9437 - val_accuracy: 0.4266\n",
      "Epoch 18/20\n",
      "100/100 [==============================] - 7s 72ms/step - loss: 0.2167 - accuracy: 0.9168 - val_loss: 2.0500 - val_accuracy: 0.4506\n",
      "Epoch 19/20\n",
      "100/100 [==============================] - 6s 64ms/step - loss: 0.2372 - accuracy: 0.9018 - val_loss: 1.9823 - val_accuracy: 0.4572\n",
      "Epoch 20/20\n",
      "100/100 [==============================] - 7s 67ms/step - loss: 0.2203 - accuracy: 0.9136 - val_loss: 2.5981 - val_accuracy: 0.4590\n"
     ]
    }
   ],
   "source": [
    "history2 = model2.fit_generator(\n",
    "    generator=train_data_gen,\n",
    "    epochs=epochs,\n",
    "    validation_data=val_data_gen,\n",
    "    # MP causes error: libc++abi.dylib: terminating with uncaught exception of type std::runtime_error: Couldn't close file\n",
    "#     use_multiprocessing=True,\n",
    "#     workers=4\n",
    ")"
   ]
  },
  {
   "cell_type": "code",
   "execution_count": 14,
   "metadata": {},
   "outputs": [
    {
     "data": {
      "image/png": "[encoded data removed]",
      "text/plain": [
       "<Figure size 432x288 with 1 Axes>"
      ]
     },
     "metadata": {
      "needs_background": "light"
     },
     "output_type": "display_data"
    }
   ],
   "source": [
    "utils.plot_acc(history2)"
   ]
  },
  {
   "cell_type": "code",
   "execution_count": 15,
   "metadata": {},
   "outputs": [
    {
     "data": {
      "image/png": "[encoded data removed]",
      "text/plain": [
       "<Figure size 432x288 with 1 Axes>"
      ]
     },
     "metadata": {
      "needs_background": "light"
     },
     "output_type": "display_data"
    }
   ],
   "source": [
    "utils.plot_loss(history2)"
   ]
  },
  {
   "cell_type": "code",
   "execution_count": null,
   "metadata": {},
   "outputs": [],
   "source": []
  }
 ],
 "metadata": {
  "kernelspec": {
   "display_name": "Python 3",
   "language": "python",
   "name": "python3"
  },
  "language_info": {
   "codemirror_mode": {
    "name": "ipython",
    "version": 3
   },
   "file_extension": ".py",
   "mimetype": "text/x-python",
   "name": "python",
   "nbconvert_exporter": "python",
   "pygments_lexer": "ipython3",
   "version": "3.7.6"
  }
 },
 "nbformat": 4,
 "nbformat_minor": 4
}
