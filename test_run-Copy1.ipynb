{
 "cells": [
  {
   "cell_type": "code",
   "execution_count": 13,
   "metadata": {},
   "outputs": [],
   "source": [
    "import run\n",
    "import seaborn as sns\n",
    "import numpy as np"
   ]
  },
  {
   "cell_type": "code",
   "execution_count": 2,
   "metadata": {},
   "outputs": [],
   "source": [
    "params = {\n",
    "    \"states\": 3,\n",
    "    \"symbols\": 5,\n",
    "    \"epochs\": 10,\n",
    "    \"epoch_size\": 500,\n",
    "    \"batch_size\": 200,\n",
    "    \"seq_len\": 20,\n",
    "    \"pop_size\": 25,\n",
    "    \"gens\": 50,\n",
    "    \"offspring_prop\": 1.0,\n",
    "    \"cx_prob\": 0.0,\n",
    "    \"mut_prob\": 1.0,\n",
    "    \"_pool_size\": 8,\n",
    "}"
   ]
  },
  {
   "cell_type": "code",
   "execution_count": 3,
   "metadata": {
    "scrolled": false
   },
   "outputs": [
    {
     "name": "stdout",
     "output_type": "stream",
     "text": [
      "Run 1\n",
      "{'states': 3, 'symbols': 5, 'epochs': 10, 'epoch_size': 500, 'batch_size': 200, 'seq_len': 20, 'pop_size': 25, 'gens': 50, 'offspring_prop': 1.0, 'cx_prob': 0.0, 'mut_prob': 1.0, '_pool_size': 8}\n",
      "Pre-training discriminator...\n",
      "Pre-trained discriminiator accuracy: 0.8657400012016296\n",
      "Running generator...\n",
      "gen\tnevals\tmean    \tmin \n",
      "0  \t25    \t0.765231\t0.54\n",
      "1  \t50    \t0.7208  \t0.525\n",
      "2  \t50    \t0.6848  \t0.535\n",
      "3  \t50    \t0.6854  \t0.44 \n",
      "4  \t50    \t0.6388  \t0.49 \n",
      "5  \t50    \t0.6318  \t0.54 \n",
      "6  \t50    \t0.649   \t0.54 \n",
      "7  \t50    \t0.6308  \t0.56 \n",
      "8  \t50    \t0.641   \t0.585\n",
      "9  \t50    \t0.6602  \t0.6  \n",
      "10 \t50    \t0.6538  \t0.595\n",
      "11 \t50    \t0.661   \t0.605\n",
      "12 \t50    \t0.6588  \t0.58 \n",
      "13 \t50    \t0.6522  \t0.57 \n",
      "14 \t50    \t0.6626  \t0.605\n",
      "15 \t50    \t0.644   \t0.55 \n",
      "16 \t50    \t0.6696  \t0.62 \n",
      "17 \t50    \t0.6494  \t0.595\n",
      "18 \t50    \t0.6552  \t0.58 \n",
      "19 \t50    \t0.6494  \t0.605\n",
      "20 \t50    \t0.6374  \t0.59 \n",
      "21 \t50    \t0.6252  \t0.57 \n",
      "22 \t50    \t0.6348  \t0.605\n",
      "23 \t50    \t0.624   \t0.565\n",
      "24 \t50    \t0.6268  \t0.575\n",
      "25 \t50    \t0.6492  \t0.61 \n",
      "26 \t50    \t0.6378  \t0.605\n",
      "27 \t50    \t0.6326  \t0.595\n",
      "28 \t50    \t0.6286  \t0.6  \n",
      "29 \t50    \t0.6368  \t0.57 \n",
      "30 \t50    \t0.6336  \t0.575\n",
      "31 \t50    \t0.6474  \t0.57 \n",
      "32 \t50    \t0.644   \t0.585\n",
      "33 \t50    \t0.6348  \t0.56 \n",
      "34 \t50    \t0.6256  \t0.525\n",
      "35 \t50    \t0.616   \t0.57 \n",
      "36 \t50    \t0.6492  \t0.575\n",
      "37 \t50    \t0.6282  \t0.565\n",
      "38 \t50    \t0.6298  \t0.555\n",
      "39 \t50    \t0.6266  \t0.595\n",
      "40 \t50    \t0.6272  \t0.57 \n",
      "41 \t50    \t0.6272  \t0.57 \n",
      "42 \t50    \t0.6412  \t0.575\n",
      "43 \t50    \t0.622   \t0.545\n",
      "44 \t50    \t0.6276  \t0.545\n",
      "45 \t50    \t0.6186  \t0.57 \n",
      "46 \t50    \t0.6322  \t0.58 \n",
      "47 \t50    \t0.6326  \t0.57 \n",
      "48 \t50    \t0.6424  \t0.56 \n",
      "49 \t50    \t0.6344  \t0.515\n",
      "50 \t50    \t0.6438  \t0.59 \n",
      "Run 2\n",
      "{'states': 3, 'symbols': 5, 'epochs': 10, 'epoch_size': 500, 'batch_size': 200, 'seq_len': 20, 'pop_size': 25, 'gens': 50, 'offspring_prop': 1.0, 'cx_prob': 0.0, 'mut_prob': 1.0, '_pool_size': 8}\n",
      "Pre-training discriminator...\n",
      "Pre-trained discriminiator accuracy: 0.8245700001716614\n",
      "Running generator...\n"
     ]
    },
    {
     "name": "stderr",
     "output_type": "stream",
     "text": [
      "/usr/local/lib/python3.6/dist-packages/deap/creator.py:141: RuntimeWarning: A class named 'FitnessMin' has already been created and it will be overwritten. Consider deleting previous creation of that class or rename it.\n",
      "  RuntimeWarning)\n",
      "/usr/local/lib/python3.6/dist-packages/deap/creator.py:141: RuntimeWarning: A class named 'Individual' has already been created and it will be overwritten. Consider deleting previous creation of that class or rename it.\n",
      "  RuntimeWarning)\n"
     ]
    },
    {
     "name": "stdout",
     "output_type": "stream",
     "text": [
      "gen\tnevals\tmean    \tmin  \n",
      "0  \t25    \t0.791791\t0.535\n",
      "1  \t50    \t0.7616  \t0.52 \n",
      "2  \t50    \t0.6934  \t0.555\n",
      "3  \t50    \t0.675   \t0.585\n",
      "4  \t50    \t0.67    \t0.61 \n",
      "5  \t50    \t0.6558  \t0.535\n",
      "6  \t50    \t0.6512  \t0.58 \n",
      "7  \t50    \t0.6542  \t0.59 \n",
      "8  \t50    \t0.6388  \t0.575\n",
      "9  \t50    \t0.6442  \t0.58 \n",
      "10 \t50    \t0.602   \t0.54 \n",
      "11 \t50    \t0.6332  \t0.575\n",
      "12 \t50    \t0.6264  \t0.585\n",
      "13 \t50    \t0.623   \t0.56 \n",
      "14 \t50    \t0.6172  \t0.555\n",
      "15 \t50    \t0.611   \t0.56 \n",
      "16 \t50    \t0.6168  \t0.53 \n",
      "17 \t50    \t0.6048  \t0.52 \n",
      "18 \t50    \t0.6268  \t0.545\n",
      "19 \t50    \t0.6138  \t0.55 \n",
      "20 \t50    \t0.6186  \t0.545\n",
      "21 \t50    \t0.6274  \t0.525\n",
      "22 \t50    \t0.6104  \t0.525\n",
      "23 \t50    \t0.6174  \t0.56 \n",
      "24 \t50    \t0.6032  \t0.53 \n",
      "25 \t50    \t0.6092  \t0.54 \n",
      "26 \t50    \t0.6068  \t0.555\n",
      "27 \t50    \t0.625   \t0.57 \n",
      "28 \t50    \t0.5966  \t0.545\n",
      "29 \t50    \t0.6008  \t0.56 \n",
      "30 \t50    \t0.5732  \t0.515\n",
      "31 \t50    \t0.6172  \t0.495\n",
      "32 \t50    \t0.6038  \t0.5  \n",
      "33 \t50    \t0.5898  \t0.51 \n",
      "34 \t50    \t0.6096  \t0.515\n",
      "35 \t50    \t0.6052  \t0.53 \n",
      "36 \t50    \t0.5988  \t0.57 \n",
      "37 \t50    \t0.615   \t0.54 \n",
      "38 \t50    \t0.6048  \t0.54 \n",
      "39 \t50    \t0.5986  \t0.56 \n",
      "40 \t50    \t0.5918  \t0.535\n",
      "41 \t50    \t0.5962  \t0.525\n",
      "42 \t50    \t0.6006  \t0.57 \n",
      "43 \t50    \t0.6086  \t0.585\n",
      "44 \t50    \t0.6112  \t0.58 \n",
      "45 \t50    \t0.584   \t0.515\n",
      "46 \t50    \t0.61    \t0.565\n",
      "47 \t50    \t0.5982  \t0.52 \n",
      "48 \t50    \t0.607   \t0.56 \n",
      "49 \t50    \t0.6064  \t0.55 \n",
      "50 \t50    \t0.6044  \t0.495\n",
      "Run 3\n",
      "{'states': 3, 'symbols': 5, 'epochs': 10, 'epoch_size': 500, 'batch_size': 200, 'seq_len': 20, 'pop_size': 25, 'gens': 50, 'offspring_prop': 1.0, 'cx_prob': 0.0, 'mut_prob': 1.0, '_pool_size': 8}\n",
      "Pre-training discriminator...\n",
      "Pre-trained discriminiator accuracy: 0.7700200080871582\n",
      "Running generator...\n"
     ]
    },
    {
     "name": "stderr",
     "output_type": "stream",
     "text": [
      "/usr/local/lib/python3.6/dist-packages/deap/creator.py:141: RuntimeWarning: A class named 'FitnessMin' has already been created and it will be overwritten. Consider deleting previous creation of that class or rename it.\n",
      "  RuntimeWarning)\n",
      "/usr/local/lib/python3.6/dist-packages/deap/creator.py:141: RuntimeWarning: A class named 'Individual' has already been created and it will be overwritten. Consider deleting previous creation of that class or rename it.\n",
      "  RuntimeWarning)\n"
     ]
    },
    {
     "name": "stdout",
     "output_type": "stream",
     "text": [
      "gen\tnevals\tmean    \tmin  \n",
      "0  \t25    \t0.673192\t0.495\n",
      "1  \t50    \t0.6742  \t0.5  \n",
      "2  \t50    \t0.5908  \t0.455\n",
      "3  \t50    \t0.5958  \t0.555\n",
      "4  \t50    \t0.5942  \t0.56 \n",
      "5  \t50    \t0.6108  \t0.555\n",
      "6  \t50    \t0.5804  \t0.505\n",
      "7  \t50    \t0.5842  \t0.515\n",
      "8  \t50    \t0.5912  \t0.515\n",
      "9  \t50    \t0.5744  \t0.51 \n",
      "10 \t50    \t0.5938  \t0.535\n",
      "11 \t50    \t0.6076  \t0.565\n",
      "12 \t50    \t0.5924  \t0.555\n",
      "13 \t50    \t0.5702  \t0.5  \n",
      "14 \t50    \t0.5886  \t0.54 \n",
      "15 \t50    \t0.611   \t0.565\n",
      "16 \t50    \t0.5886  \t0.515\n",
      "17 \t50    \t0.6064  \t0.53 \n",
      "18 \t50    \t0.6158  \t0.51 \n",
      "19 \t50    \t0.6072  \t0.515\n",
      "20 \t50    \t0.6274  \t0.54 \n",
      "21 \t50    \t0.587   \t0.545\n",
      "22 \t50    \t0.6018  \t0.56 \n",
      "23 \t50    \t0.5986  \t0.53 \n",
      "24 \t50    \t0.594   \t0.515\n",
      "25 \t50    \t0.601   \t0.545\n",
      "26 \t50    \t0.616   \t0.585\n",
      "27 \t50    \t0.5942  \t0.525\n",
      "28 \t50    \t0.5912  \t0.515\n",
      "29 \t50    \t0.6058  \t0.54 \n",
      "30 \t50    \t0.5748  \t0.49 \n",
      "31 \t50    \t0.592   \t0.505\n",
      "32 \t50    \t0.599   \t0.54 \n",
      "33 \t50    \t0.5926  \t0.545\n",
      "34 \t50    \t0.594   \t0.55 \n",
      "35 \t50    \t0.5828  \t0.52 \n",
      "36 \t50    \t0.5946  \t0.495\n",
      "37 \t50    \t0.6012  \t0.585\n",
      "38 \t50    \t0.5748  \t0.5  \n",
      "39 \t50    \t0.588   \t0.54 \n",
      "40 \t50    \t0.583   \t0.55 \n",
      "41 \t50    \t0.5822  \t0.54 \n",
      "42 \t50    \t0.5936  \t0.525\n",
      "43 \t50    \t0.5828  \t0.545\n",
      "44 \t50    \t0.5872  \t0.53 \n",
      "45 \t50    \t0.5808  \t0.49 \n",
      "46 \t50    \t0.5706  \t0.505\n",
      "47 \t50    \t0.5738  \t0.515\n",
      "48 \t50    \t0.6092  \t0.56 \n",
      "49 \t50    \t0.6054  \t0.55 \n",
      "50 \t50    \t0.5818  \t0.5  \n",
      "Run 4\n",
      "{'states': 3, 'symbols': 5, 'epochs': 10, 'epoch_size': 500, 'batch_size': 200, 'seq_len': 20, 'pop_size': 25, 'gens': 50, 'offspring_prop': 1.0, 'cx_prob': 0.0, 'mut_prob': 1.0, '_pool_size': 8}\n",
      "Pre-training discriminator...\n",
      "Pre-trained discriminiator accuracy: 0.830560028553009\n",
      "Running generator...\n"
     ]
    },
    {
     "name": "stderr",
     "output_type": "stream",
     "text": [
      "/usr/local/lib/python3.6/dist-packages/deap/creator.py:141: RuntimeWarning: A class named 'FitnessMin' has already been created and it will be overwritten. Consider deleting previous creation of that class or rename it.\n",
      "  RuntimeWarning)\n",
      "/usr/local/lib/python3.6/dist-packages/deap/creator.py:141: RuntimeWarning: A class named 'Individual' has already been created and it will be overwritten. Consider deleting previous creation of that class or rename it.\n",
      "  RuntimeWarning)\n"
     ]
    },
    {
     "name": "stdout",
     "output_type": "stream",
     "text": [
      "gen\tnevals\tmean    \tmin \n",
      "0  \t25    \t0.758406\t0.47\n",
      "1  \t50    \t0.6998  \t0.49\n",
      "2  \t50    \t0.6806  \t0.55\n",
      "3  \t50    \t0.6392  \t0.55\n",
      "4  \t50    \t0.646   \t0.525\n",
      "5  \t50    \t0.604   \t0.495\n",
      "6  \t50    \t0.6106  \t0.5  \n",
      "7  \t50    \t0.6116  \t0.565\n",
      "8  \t50    \t0.6184  \t0.55 \n",
      "9  \t50    \t0.6308  \t0.565\n",
      "10 \t50    \t0.618   \t0.56 \n",
      "11 \t50    \t0.638   \t0.585\n",
      "12 \t50    \t0.6216  \t0.515\n",
      "13 \t50    \t0.6432  \t0.52 \n",
      "14 \t50    \t0.6084  \t0.505\n",
      "15 \t50    \t0.5784  \t0.5  \n",
      "16 \t50    \t0.5688  \t0.49 \n",
      "17 \t50    \t0.5768  \t0.465\n",
      "18 \t50    \t0.5618  \t0.41 \n",
      "19 \t50    \t0.5176  \t0.395\n",
      "20 \t50    \t0.534   \t0.455\n",
      "21 \t50    \t0.5034  \t0.4  \n",
      "22 \t50    \t0.5178  \t0.435\n",
      "23 \t50    \t0.494   \t0.435\n",
      "24 \t50    \t0.5158  \t0.43 \n",
      "25 \t50    \t0.5082  \t0.45 \n",
      "26 \t50    \t0.5222  \t0.47 \n",
      "27 \t50    \t0.5636  \t0.49 \n",
      "28 \t50    \t0.5374  \t0.44 \n",
      "29 \t50    \t0.5294  \t0.4  \n",
      "30 \t50    \t0.4962  \t0.375\n",
      "31 \t50    \t0.4946  \t0.41 \n",
      "32 \t50    \t0.5266  \t0.46 \n",
      "33 \t50    \t0.5088  \t0.425\n",
      "34 \t50    \t0.5094  \t0.415\n",
      "35 \t50    \t0.5198  \t0.47 \n",
      "36 \t50    \t0.534   \t0.49 \n",
      "37 \t50    \t0.5392  \t0.485\n",
      "38 \t50    \t0.539   \t0.48 \n",
      "39 \t50    \t0.5552  \t0.48 \n",
      "40 \t50    \t0.5592  \t0.505\n",
      "41 \t50    \t0.5478  \t0.475\n",
      "42 \t50    \t0.5644  \t0.445\n",
      "43 \t50    \t0.5472  \t0.51 \n",
      "44 \t50    \t0.5314  \t0.485\n",
      "45 \t50    \t0.5364  \t0.46 \n",
      "46 \t50    \t0.5488  \t0.51 \n",
      "47 \t50    \t0.5438  \t0.475\n",
      "48 \t50    \t0.5284  \t0.49 \n",
      "49 \t50    \t0.5284  \t0.49 \n",
      "50 \t50    \t0.5302  \t0.5  \n",
      "Run 5\n",
      "{'states': 3, 'symbols': 5, 'epochs': 10, 'epoch_size': 500, 'batch_size': 200, 'seq_len': 20, 'pop_size': 25, 'gens': 50, 'offspring_prop': 1.0, 'cx_prob': 0.0, 'mut_prob': 1.0, '_pool_size': 8}\n",
      "Pre-training discriminator...\n",
      "Pre-trained discriminiator accuracy: 0.9628400206565857\n",
      "Running generator...\n"
     ]
    },
    {
     "name": "stderr",
     "output_type": "stream",
     "text": [
      "/usr/local/lib/python3.6/dist-packages/deap/creator.py:141: RuntimeWarning: A class named 'FitnessMin' has already been created and it will be overwritten. Consider deleting previous creation of that class or rename it.\n",
      "  RuntimeWarning)\n",
      "/usr/local/lib/python3.6/dist-packages/deap/creator.py:141: RuntimeWarning: A class named 'Individual' has already been created and it will be overwritten. Consider deleting previous creation of that class or rename it.\n",
      "  RuntimeWarning)\n"
     ]
    },
    {
     "name": "stdout",
     "output_type": "stream",
     "text": [
      "gen\tnevals\tmean    \tmin \n",
      "0  \t25    \t0.920903\t0.56\n",
      "1  \t50    \t0.8892  \t0.64\n",
      "2  \t50    \t0.8926  \t0.725\n",
      "3  \t50    \t0.9062  \t0.785\n",
      "4  \t50    \t0.8912  \t0.75 \n",
      "5  \t50    \t0.866   \t0.78 \n",
      "6  \t50    \t0.8348  \t0.73 \n",
      "7  \t50    \t0.8342  \t0.755\n",
      "8  \t50    \t0.8068  \t0.74 \n",
      "9  \t50    \t0.8084  \t0.74 \n",
      "10 \t50    \t0.7978  \t0.68 \n",
      "11 \t50    \t0.7936  \t0.755\n",
      "12 \t50    \t0.7674  \t0.705\n",
      "13 \t50    \t0.77    \t0.72 \n",
      "14 \t50    \t0.7706  \t0.695\n",
      "15 \t50    \t0.7688  \t0.68 \n",
      "16 \t50    \t0.7496  \t0.63 \n",
      "17 \t50    \t0.752   \t0.655\n",
      "18 \t50    \t0.7328  \t0.675\n",
      "19 \t50    \t0.7436  \t0.68 \n",
      "20 \t50    \t0.6962  \t0.635\n",
      "21 \t50    \t0.7326  \t0.615\n",
      "22 \t50    \t0.6996  \t0.595\n",
      "23 \t50    \t0.6948  \t0.62 \n",
      "24 \t50    \t0.7352  \t0.645\n",
      "25 \t50    \t0.71    \t0.65 \n",
      "26 \t50    \t0.7146  \t0.645\n",
      "27 \t50    \t0.721   \t0.68 \n",
      "28 \t50    \t0.726   \t0.64 \n",
      "29 \t50    \t0.6918  \t0.645\n",
      "30 \t50    \t0.7062  \t0.63 \n",
      "31 \t50    \t0.713   \t0.645\n",
      "32 \t50    \t0.7066  \t0.63 \n",
      "33 \t50    \t0.7176  \t0.69 \n",
      "34 \t50    \t0.6906  \t0.655\n",
      "35 \t50    \t0.7154  \t0.675\n",
      "36 \t50    \t0.6968  \t0.65 \n",
      "37 \t50    \t0.7106  \t0.665\n",
      "38 \t50    \t0.7176  \t0.685\n",
      "39 \t50    \t0.6908  \t0.615\n",
      "40 \t50    \t0.7064  \t0.66 \n",
      "41 \t50    \t0.7174  \t0.67 \n",
      "42 \t50    \t0.7174  \t0.64 \n",
      "43 \t50    \t0.7124  \t0.66 \n",
      "44 \t50    \t0.7156  \t0.7  \n",
      "45 \t50    \t0.7156  \t0.685\n",
      "46 \t50    \t0.7096  \t0.675\n",
      "47 \t50    \t0.717   \t0.685\n",
      "48 \t50    \t0.7254  \t0.625\n",
      "49 \t50    \t0.7052  \t0.66 \n",
      "50 \t50    \t0.7062  \t0.675\n"
     ]
    }
   ],
   "source": [
    "runs = 5\n",
    "\n",
    "exp_data = run.experiment(params, runs)"
   ]
  },
  {
   "cell_type": "code",
   "execution_count": 29,
   "metadata": {},
   "outputs": [
    {
     "data": {
      "text/plain": [
       "{'states': 3,\n",
       " 'symbols': 5,\n",
       " 'epochs': 10,\n",
       " 'epoch_size': 500,\n",
       " 'batch_size': 200,\n",
       " 'seq_len': 20,\n",
       " 'pop_size': 25,\n",
       " 'gens': 50,\n",
       " 'offspring_prop': 1.0,\n",
       " 'cx_prob': 0.0,\n",
       " 'mut_prob': 1.0,\n",
       " '_pool_size': 8}"
      ]
     },
     "execution_count": 29,
     "metadata": {},
     "output_type": "execute_result"
    }
   ],
   "source": [
    "exp_data[\"params\"]"
   ]
  },
  {
   "cell_type": "code",
   "execution_count": 8,
   "metadata": {},
   "outputs": [
    {
     "data": {
      "text/plain": [
       "<matplotlib.axes._subplots.AxesSubplot at 0x7efbdfd834a8>"
      ]
     },
     "execution_count": 8,
     "metadata": {},
     "output_type": "execute_result"
    },
    {
     "data": {
      "image/png": "[encoded data removed]",
      "text/plain": [
       "<Figure size 432x288 with 1 Axes>"
      ]
     },
     "metadata": {
      "needs_background": "light"
     },
     "output_type": "display_data"
    }
   ],
   "source": [
    "sns.boxplot(data=[exp_data[\"best_l2s\"], exp_data[\"rand_l2s\"]])"
   ]
  },
  {
   "cell_type": "code",
   "execution_count": 32,
   "metadata": {
    "scrolled": false
   },
   "outputs": [
    {
     "data": {
      "text/plain": [
       "<matplotlib.axes._subplots.AxesSubplot at 0x7efbe48b9cc0>"
      ]
     },
     "execution_count": 32,
     "metadata": {},
     "output_type": "execute_result"
    },
    {
     "data": {
      "image/png": "[encoded data removed]",
      "text/plain": [
       "<Figure size 432x288 with 1 Axes>"
      ]
     },
     "metadata": {
      "needs_background": "light"
     },
     "output_type": "display_data"
    }
   ],
   "source": [
    "mean_fitnesses = np.array(exp_data[\"mean_fitnesses\"]).T\n",
    "sns.lineplot(data=mean_fitnesses)"
   ]
  },
  {
   "cell_type": "code",
   "execution_count": null,
   "metadata": {},
   "outputs": [],
   "source": []
  }
 ],
 "metadata": {
  "kernelspec": {
   "display_name": "Python 3",
   "language": "python",
   "name": "python3"
  },
  "language_info": {
   "codemirror_mode": {
    "name": "ipython",
    "version": 3
   },
   "file_extension": ".py",
   "mimetype": "text/x-python",
   "name": "python",
   "nbconvert_exporter": "python",
   "pygments_lexer": "ipython3",
   "version": "3.6.9"
  }
 },
 "nbformat": 4,
 "nbformat_minor": 4
}
