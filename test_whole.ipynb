{
 "cells": [
  {
   "cell_type": "code",
   "execution_count": 1,
   "metadata": {},
   "outputs": [
    {
     "name": "stderr",
     "output_type": "stream",
     "text": [
      "Using TensorFlow backend.\n"
     ]
    }
   ],
   "source": [
    "import hmm\n",
    "\n",
    "from discriminator import Discriminator\n",
    "from ea import EA"
   ]
  },
  {
   "cell_type": "code",
   "execution_count": 2,
   "metadata": {},
   "outputs": [],
   "source": [
    "x = 3\n",
    "y = \"abc\"\n",
    "s = [1.0, 0.0, 0.0]\n",
    "\n",
    "real_hmm = hmm.random_hmm(x, y, s)"
   ]
  },
  {
   "cell_type": "code",
   "execution_count": 3,
   "metadata": {},
   "outputs": [
    {
     "name": "stdout",
     "output_type": "stream",
     "text": [
      "\n",
      "Real HMM:\n",
      "T:\n",
      "[[4.73462564e-01 4.80778148e-01 4.57592874e-02]\n",
      " [2.50192877e-01 6.00659650e-01 1.49147474e-01]\n",
      " [2.47692517e-01 7.51613185e-01 6.94298564e-04]]\n",
      "E:\n",
      "[[0.09068823 0.17545199 0.73385978]\n",
      " [0.42827211 0.1451289  0.42659899]\n",
      " [0.10682802 0.63820789 0.25496409]]\n",
      "\n"
     ]
    }
   ],
   "source": [
    "print(f\"\"\"\n",
    "Real HMM:\n",
    "T:\n",
    "{real_hmm.a}\n",
    "E:\n",
    "{real_hmm.b}\n",
    "\"\"\")"
   ]
  },
  {
   "cell_type": "code",
   "execution_count": 4,
   "metadata": {},
   "outputs": [],
   "source": [
    "epochs = 10\n",
    "epoch_size = 100\n",
    "batch_size = 100\n",
    "seq_len = 20\n",
    "\n",
    "discriminator = Discriminator(\n",
    "    real_hmm, epoch_size, batch_size, seq_len, pool_size=4\n",
    ")"
   ]
  },
  {
   "cell_type": "code",
   "execution_count": 5,
   "metadata": {},
   "outputs": [
    {
     "name": "stdout",
     "output_type": "stream",
     "text": [
      "\n",
      "Pre-training discriminator:\n",
      "Epoch 1/10\n",
      "100/100 [==============================] - 3s 26ms/step - loss: 0.6365 - accuracy: 0.6498\n",
      "Epoch 2/10\n",
      "100/100 [==============================] - 2s 18ms/step - loss: 0.5798 - accuracy: 0.7127\n",
      "Epoch 3/10\n",
      "100/100 [==============================] - 2s 19ms/step - loss: 0.5456 - accuracy: 0.7324\n",
      "Epoch 4/10\n",
      "100/100 [==============================] - 2s 17ms/step - loss: 0.5326 - accuracy: 0.7429\n",
      "Epoch 5/10\n",
      "100/100 [==============================] - 2s 18ms/step - loss: 0.5142 - accuracy: 0.7548\n",
      "Epoch 6/10\n",
      "Epoch 5/10\n",
      "100/100 [==============================] - 2s 18ms/step - loss: 0.5034 - accuracy: 0.7645\n",
      "Epoch 7/10\n",
      "100/100 [==============================] - 2s 18ms/step - loss: 0.4898 - accuracy: 0.7735\n",
      "Epoch 8/10\n",
      "100/100 [==============================] - 2s 18ms/step - loss: 0.4788 - accuracy: 0.7798\n",
      "Epoch 9/10\n",
      "100/100 [==============================] - 2s 18ms/step - loss: 0.4658 - accuracy: 0.7871\n",
      "Epoch 10/10\n",
      "100/100 [==============================] - 2s 18ms/step - loss: 0.4525 - accuracy: 0.7932\n",
      "\n",
      "\n"
     ]
    }
   ],
   "source": [
    "discriminator.initial_train(epochs)"
   ]
  },
  {
   "cell_type": "code",
   "execution_count": 6,
   "metadata": {},
   "outputs": [
    {
     "name": "stdout",
     "output_type": "stream",
     "text": [
      "Discriminator metrics: ['loss', 'accuracy']\n"
     ]
    }
   ],
   "source": [
    "pop_size = 100\n",
    "\n",
    "ea = EA(discriminator, pop_size, states=x, symbols=len(y))"
   ]
  },
  {
   "cell_type": "code",
   "execution_count": 7,
   "metadata": {},
   "outputs": [
    {
     "name": "stdout",
     "output_type": "stream",
     "text": [
      "gen\tnevals\tavg     \tmax   \n",
      "0  \t100   \t0.499715\t1.0699\n",
      "1  \t50    \t0.601062\t1.01089\n",
      "2  \t50    \t0.727459\t1.03911\n",
      "3  \t50    \t0.795662\t1.03911\n",
      "4  \t50    \t0.808796\t1.01089\n",
      "5  \t50    \t0.827477\t1.01089\n",
      "6  \t50    \t0.831176\t0.963408\n",
      "7  \t50    \t0.828099\t0.963408\n",
      "8  \t50    \t0.847684\t0.963408\n",
      "9  \t50    \t0.848823\t0.963408\n",
      "10 \t50    \t0.860078\t0.963408\n",
      "11 \t50    \t0.882901\t0.963408\n",
      "12 \t50    \t0.884948\t0.963408\n",
      "13 \t50    \t0.88891 \t0.963408\n",
      "14 \t50    \t0.894121\t0.963408\n",
      "15 \t50    \t0.872629\t0.963408\n",
      "16 \t50    \t0.883946\t0.963408\n",
      "17 \t50    \t0.897477\t0.963408\n",
      "18 \t50    \t0.886627\t0.963408\n",
      "19 \t50    \t0.906038\t0.963408\n",
      "20 \t50    \t0.915003\t0.963408\n",
      "21 \t50    \t0.899256\t0.963408\n",
      "22 \t50    \t0.904926\t0.963408\n",
      "23 \t50    \t0.912987\t0.963408\n",
      "24 \t50    \t0.919182\t0.963408\n",
      "25 \t50    \t0.906974\t0.963408\n",
      "26 \t50    \t0.908316\t0.963408\n",
      "27 \t50    \t0.910852\t0.963408\n",
      "28 \t50    \t0.901842\t0.963408\n",
      "29 \t50    \t0.869982\t0.963408\n",
      "30 \t50    \t0.882911\t0.963408\n",
      "31 \t50    \t0.885802\t0.963408\n",
      "32 \t50    \t0.904575\t0.963408\n",
      "33 \t50    \t0.903407\t0.963408\n",
      "34 \t50    \t0.914717\t0.963408\n",
      "35 \t50    \t0.892431\t0.963408\n",
      "36 \t50    \t0.923325\t0.963408\n",
      "37 \t50    \t0.897989\t0.963408\n",
      "38 \t50    \t0.873903\t0.963408\n",
      "39 \t50    \t0.869047\t0.963408\n",
      "40 \t50    \t0.893576\t0.963408\n",
      "41 \t50    \t0.902448\t0.963408\n",
      "42 \t50    \t0.89115 \t0.963408\n",
      "43 \t50    \t0.869449\t0.963408\n",
      "44 \t50    \t0.909026\t0.963408\n",
      "45 \t50    \t0.906534\t0.963408\n",
      "46 \t50    \t0.896356\t0.963408\n",
      "47 \t50    \t0.873258\t0.963408\n",
      "48 \t50    \t0.86265 \t0.963408\n",
      "49 \t50    \t0.880574\t0.963408\n",
      "50 \t50    \t0.891967\t0.963408\n"
     ]
    }
   ],
   "source": [
    "final_pop = ea.run()\n",
    "ea.cleanup()"
   ]
  },
  {
   "cell_type": "code",
   "execution_count": 13,
   "metadata": {},
   "outputs": [],
   "source": [
    "ind_hmm_a, ind_hmm_b = final_pop[0]"
   ]
  },
  {
   "cell_type": "code",
   "execution_count": 14,
   "metadata": {},
   "outputs": [
    {
     "name": "stdout",
     "output_type": "stream",
     "text": [
      "\n",
      "Real HMM:\n",
      "T:\n",
      "[[4.73462564e-01 4.80778148e-01 4.57592874e-02]\n",
      " [2.50192877e-01 6.00659650e-01 1.49147474e-01]\n",
      " [2.47692517e-01 7.51613185e-01 6.94298564e-04]]\n",
      "E:\n",
      "[[0.09068823 0.17545199 0.73385978]\n",
      " [0.42827211 0.1451289  0.42659899]\n",
      " [0.10682802 0.63820789 0.25496409]]\n",
      "\n",
      "Best HMM:\n",
      "T:\n",
      "[[0.82152056 0.16894804 0.0095314 ]\n",
      " [0.72275595 0.08997451 0.18726954]\n",
      " [0.23228623 0.16681271 0.60090106]]\n",
      "E:\n",
      "[[0.21532204 0.00913712 0.77554084]\n",
      " [0.22549369 0.29654296 0.47796335]\n",
      " [0.10284669 0.43631669 0.46083662]]\n",
      "\n"
     ]
    }
   ],
   "source": [
    "print(f\"\"\"\n",
    "Real HMM:\n",
    "T:\n",
    "{real_hmm.a}\n",
    "E:\n",
    "{real_hmm.b}\n",
    "\n",
    "Best HMM:\n",
    "T:\n",
    "{ind_hmm_a}\n",
    "E:\n",
    "{ind_hmm_b}\n",
    "\"\"\")"
   ]
  },
  {
   "cell_type": "code",
   "execution_count": null,
   "metadata": {},
   "outputs": [],
   "source": []
  }
 ],
 "metadata": {
  "kernelspec": {
   "display_name": "Python 3",
   "language": "python",
   "name": "python3"
  },
  "language_info": {
   "codemirror_mode": {
    "name": "ipython",
    "version": 3
   },
   "file_extension": ".py",
   "mimetype": "text/x-python",
   "name": "python",
   "nbconvert_exporter": "python",
   "pygments_lexer": "ipython3",
   "version": "3.6.9"
  }
 },
 "nbformat": 4,
 "nbformat_minor": 4
}
